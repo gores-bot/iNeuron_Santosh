{
  "nbformat": 4,
  "nbformat_minor": 0,
  "metadata": {
    "colab": {
      "provenance": [],
      "collapsed_sections": [],
      "authorship_tag": "ABX9TyM2k5SajpuRZvDkZK+24DcZ",
      "include_colab_link": true
    },
    "kernelspec": {
      "name": "python3",
      "display_name": "Python 3"
    },
    "language_info": {
      "name": "python"
    }
  },
  "cells": [
    {
      "cell_type": "markdown",
      "metadata": {
        "id": "view-in-github",
        "colab_type": "text"
      },
      "source": [
        "<a href=\"https://colab.research.google.com/github/gores-bot/iNeuron_Santosh/blob/main/FSDS_bootcamp_assignment_002_Oct_01_Santosh_Gore.ipynb\" target=\"_parent\"><img src=\"https://colab.research.google.com/assets/colab-badge.svg\" alt=\"Open In Colab\"/></a>"
      ]
    },
    {
      "cell_type": "markdown",
      "source": [
        "What is indentation error? Why indentation is important? Give one simple example?\n",
        "\n",
        "A - if proper spacign is not preovided during programming then we get indentation error. \n",
        "Proper spacing is required to be given for better readability of the code. It helps understand level of nesting done in a code.\n",
        "\n",
        "Below is the example.\n",
        "Password = 'abcd'\n",
        "input = input(\"Enter password\")\n",
        "if input == Password:\n",
        "  print(\"Correct password\")\n",
        "else:\n",
        "  print(\"Incorrect password\")\n",
        "\n"
      ],
      "metadata": {
        "id": "QHUSo4G8uiki"
      }
    },
    {
      "cell_type": "code",
      "source": [
        "class_started = input(\"Hey friend, is class started?: [''-False/1-True]\")\n",
        "print(class_started)\n",
        "var1 = bool(class_started)\n",
        "print(class_started)\n",
        "if class_started:\n",
        "   print(\"Since class started...\")\n",
        "   print(\"Lets concentrate\")\n",
        "else:\n",
        "   print(\"Since class is not started...\")\n",
        "   print(\"let's revise\")   "
      ],
      "metadata": {
        "colab": {
          "base_uri": "https://localhost:8080/"
        },
        "id": "yBsGMeRrJTyw",
        "outputId": "4b21cbda-95a8-4374-9789-2956e7a3fbd4"
      },
      "execution_count": null,
      "outputs": [
        {
          "output_type": "stream",
          "name": "stdout",
          "text": [
            "Hey friend, is class started?: [''-False/1-True]\n",
            "\n",
            "\n",
            "Since class is not started...\n",
            "let's revise\n"
          ]
        }
      ]
    },
    {
      "cell_type": "markdown",
      "source": [
        "3) Use if else condition to verify that dataype of input() method in python is always string."
      ],
      "metadata": {
        "id": "nC2RMW50JNL4"
      }
    },
    {
      "cell_type": "code",
      "source": [
        "number = input(\"Enter value \")\n",
        "print(\"Printing type of input value\")\n",
        "print(\"type of number \", type(number))\n"
      ],
      "metadata": {
        "colab": {
          "base_uri": "https://localhost:8080/"
        },
        "id": "OjBlX7Vk2-OR",
        "outputId": "931afecd-cc31-4f63-92ed-358b07dea3ee"
      },
      "execution_count": null,
      "outputs": [
        {
          "output_type": "stream",
          "name": "stdout",
          "text": [
            "Enter value 1234\n",
            "Printing type of input value\n",
            "type of number  <class 'str'>\n"
          ]
        }
      ]
    },
    {
      "cell_type": "markdown",
      "source": [
        "4) Take 3 variables and assign integer values to them. Find the largest variable, by only using the if and else conditions."
      ],
      "metadata": {
        "id": "uW3CV7KQLQJT"
      }
    },
    {
      "cell_type": "code",
      "source": [
        "a = 2\n",
        "b = 3\n",
        "c = 5\n",
        "if a>b: \n",
        "  if a>c:\n",
        "    print(\"a is the largest number\", a)\n",
        "  else: \n",
        "    print(\"c is the larget bumber\", c)  \n",
        "elif b>c:\n",
        "  print(\"b is the largest number\", b)\n",
        "else:\n",
        "  print(\"c is the larget number\", c)\n",
        "\n"
      ],
      "metadata": {
        "colab": {
          "base_uri": "https://localhost:8080/"
        },
        "id": "toYJyyUILS0d",
        "outputId": "5dfc814f-58d9-4d87-9e65-c7c4453ff5de"
      },
      "execution_count": null,
      "outputs": [
        {
          "output_type": "stream",
          "name": "stdout",
          "text": [
            "c is the larget number 5\n"
          ]
        }
      ]
    },
    {
      "cell_type": "markdown",
      "source": [
        "5) What would be the solution?\n",
        "\n",
        "True\n",
        "\n",
        "False\n",
        "\n",
        "a = 6\n",
        "b = 10\n",
        "print( not ( not a == 10 or not b == 10) )\n",
        "\n",
        "Ans - False"
      ],
      "metadata": {
        "id": "JuXY-sz4MkwP"
      }
    },
    {
      "cell_type": "markdown",
      "source": [
        "6) Find the answer as well as find out the reason behind the result? \n",
        "\n",
        "Case 1 )  A = 5.0\n",
        "          B = 10/2\n",
        "          print(A is B)\n",
        "\n",
        "A is B will try to compare A and B and if values are same it will return True else False. Here it will return False.\n",
        "\n",
        "Case 2)  A = 5.0\n",
        "         B = int(10/2)\n",
        "         print(A is B)\n",
        "\n",
        "- it will return false as Type of A is float and Type of B is int which are not comparable.\n",
        "\n",
        "Case 3)   A = 5.0\n",
        "          B = float(10/2)\n",
        "          print(A is B)\n",
        "\n",
        "- It will return True value as both A and B are float and have same value 5.0\n",
        "\n"
      ],
      "metadata": {
        "id": "HFw9K7IeNPwO"
      }
    },
    {
      "cell_type": "markdown",
      "source": [
        "7) Write a program that asks the user to enter a number. You should print out a message to the user, either “That number is divisible by either 3 or 5”, or “That number is not divisible by either 3 or 5”. Be sure to consider the data type of the input you are taking in from the user. Use a single if/else block to solve this problem."
      ],
      "metadata": {
        "id": "pq6dYcrLRp1D"
      }
    },
    {
      "cell_type": "code",
      "source": [
        "num=int(input(\"Enter a number\"))\n",
        "a=num%3\n",
        "b=num%5\n",
        "if a == 0:\n",
        "  print(f\"Number {num} is divisible by 3\")\n",
        "else:\n",
        "  print(f\"Number {num} is divisible by 5\")"
      ],
      "metadata": {
        "colab": {
          "base_uri": "https://localhost:8080/"
        },
        "id": "6tA5RxryRq-x",
        "outputId": "bf13c67e-ae58-4d73-90e8-3e8861578289"
      },
      "execution_count": null,
      "outputs": [
        {
          "output_type": "stream",
          "name": "stdout",
          "text": [
            "Enter a number25\n",
            "Number 25 is divisible by 5\n"
          ]
        }
      ]
    },
    {
      "cell_type": "markdown",
      "source": [
        "8) Take user input for length and width. Then calculate the area of rectangle. Also print as per length and width whether its a square of rectangle."
      ],
      "metadata": {
        "id": "-tJJLCEhSbYo"
      }
    },
    {
      "cell_type": "code",
      "source": [
        "l=int(input(\"Enter length\"))\n",
        "w=int(input(\"Enter width\"))\n",
        "area=l*w\n",
        "if l==w:\n",
        "  object1 = 'Square'\n",
        "else:\n",
        "  object1 = 'Rectangle'\n",
        "print(f\"Area of {object1} is {area} \")"
      ],
      "metadata": {
        "colab": {
          "base_uri": "https://localhost:8080/"
        },
        "id": "ZFroyiS1Schy",
        "outputId": "3363812a-931a-4c6a-d702-c25a1c0ce925"
      },
      "execution_count": null,
      "outputs": [
        {
          "output_type": "stream",
          "name": "stdout",
          "text": [
            "Enter length12\n",
            "Enter width12\n",
            "Area of Square is 144 \n"
          ]
        }
      ]
    },
    {
      "cell_type": "markdown",
      "source": [
        "9) Take two variable radius_1 and radius_2 and calculate the area of circle_1 and circle_2. Also print which circle has large area. If area is equal then print area is equal."
      ],
      "metadata": {
        "id": "TtHB_PV1TIO-"
      }
    },
    {
      "cell_type": "code",
      "source": [
        "radius_1 = int(input(\"Enter raduis of 1st circle \"))\n",
        "radius_2 = int(input(\"Enter raduis of 2nd circle \"))\n",
        "area_1 = 3.14*radius_1*radius_1\n",
        "area_2 = 3.14*radius_2*radius_2\n",
        "if area_1 == area_2:\n",
        "  print(\"both circles are equal\")\n",
        "elif area_1>area_2:\n",
        "  print(\"1st circle is larger than 2nd circle\")\n",
        "else:\n",
        "  print(\"2nd circle is larger than 1st circle\")\n",
        "\n"
      ],
      "metadata": {
        "colab": {
          "base_uri": "https://localhost:8080/"
        },
        "id": "wP3xMHQPTKWX",
        "outputId": "75b230e4-e63f-46f2-f7ca-fa279dba09ec"
      },
      "execution_count": null,
      "outputs": [
        {
          "output_type": "stream",
          "name": "stdout",
          "text": [
            "Enter raduis of 1st circle 45\n",
            "Enter raduis of 2nd circle 21\n",
            "1st circle is larger than 2nd circle\n"
          ]
        }
      ]
    },
    {
      "cell_type": "markdown",
      "source": [
        "10) Check whether a year is leap year or not. Use nested if...else to solve this problem. A leap year is exactly divisible by 4 except for century years (years ending with 00). The century year is a leap year only if it is perfectly divisible by 400."
      ],
      "metadata": {
        "id": "6SXjW0JQURRS"
      }
    },
    {
      "cell_type": "code",
      "source": [
        "year = int(input(\"Enter a year: \"))\n",
        "\n",
        "# divided by 100 means century year (ending with 00)\n",
        "# century year divided by 400 is leap year\n",
        "if (year % 400 == 0) and (year % 100 == 0):\n",
        "    print(\"{0} is a leap year\".format(year))\n",
        "\n",
        "# not divided by 100 means not a century year\n",
        "# year divided by 4 is a leap year\n",
        "elif (year % 4 ==0) and (year % 100 != 0):\n",
        "    print(\"{0} is a leap year\".format(year))\n",
        "\n",
        "# if not divided by both 400 (century year) and 4 (not century year)\n",
        "# year is not leap year\n",
        "else:\n",
        "    print(\"{0} is not a leap year\".format(year))"
      ],
      "metadata": {
        "colab": {
          "base_uri": "https://localhost:8080/"
        },
        "id": "Ejp0o0mjUS0a",
        "outputId": "124228a6-8550-4f6a-edc0-e06d95340001"
      },
      "execution_count": null,
      "outputs": [
        {
          "output_type": "stream",
          "name": "stdout",
          "text": [
            "Enter a year: 2000\n",
            "2000 is a leap year\n"
          ]
        }
      ]
    }
  ]
}