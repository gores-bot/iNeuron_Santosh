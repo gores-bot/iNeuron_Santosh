{
  "nbformat": 4,
  "nbformat_minor": 0,
  "metadata": {
    "colab": {
      "provenance": [],
      "collapsed_sections": []
    },
    "kernelspec": {
      "name": "python3",
      "display_name": "Python 3"
    },
    "language_info": {
      "name": "python"
    }
  },
  "cells": [
    {
      "cell_type": "markdown",
      "source": [
        "Q1) Count the number of times iNeuron appears in the string.\n",
        "\n",
        "text = \"Welcome to iNeuron, You are a part of FSDS Bootcamp 2 in iNeuron. I hope you are enjoying the course by iNeuron\""
      ],
      "metadata": {
        "id": "-1jkDabW8MOz"
      }
    },
    {
      "cell_type": "code",
      "source": [
        "text = \"Welcome to iNeuron, You are a part of FSDS Bootcamp 2 in iNeuron. I hope you are enjoying the course by iNeuron\"\n",
        "num = text.count(\"iNeuron\")\n",
        "print(num)"
      ],
      "metadata": {
        "colab": {
          "base_uri": "https://localhost:8080/"
        },
        "id": "QBHqBYtm8Nez",
        "outputId": "0098b0a6-1332-4c96-d457-2b3bcc019241"
      },
      "execution_count": 1,
      "outputs": [
        {
          "output_type": "stream",
          "name": "stdout",
          "text": [
            "3\n"
          ]
        }
      ]
    },
    {
      "cell_type": "markdown",
      "source": [
        "Q2) Check if position 5 to 11 ends with the phrase iNeuron. in the string\n",
        "\n",
        "txt = \"Hello, welcome to FSDS 2.0 at iNeuron.\""
      ],
      "metadata": {
        "id": "NkGYpq7P9b2a"
      }
    },
    {
      "cell_type": "code",
      "source": [
        "txt = \"Hello, welcome to FSDS 2.0 at iNeuron.\"\n",
        "name = txt[5:11]\n",
        "print(name)\n",
        "if name == \"iNeuron\":\n",
        "  print(\"Its matching\")\n",
        "else:\n",
        "  print(\"Its not matching\")\n"
      ],
      "metadata": {
        "colab": {
          "base_uri": "https://localhost:8080/"
        },
        "id": "SQo2ghRT9cTp",
        "outputId": "5b2c77ec-2de3-45b2-ad55-272d0bf9b851"
      },
      "execution_count": 2,
      "outputs": [
        {
          "output_type": "stream",
          "name": "stdout",
          "text": [
            ", welc\n",
            "Its not matching\n"
          ]
        }
      ]
    },
    {
      "cell_type": "markdown",
      "source": [
        "Q3) Write a program that takes your full name as input and displays the abbreviations of the first and middle names except the last name which is displayed as it is. For example, if your name is Sunny Bhaveen Chandra, then the output should be S.B.Chandra."
      ],
      "metadata": {
        "id": "jmH_nNPD-FFA"
      }
    },
    {
      "cell_type": "code",
      "source": [
        "name = \"Sunny Bhaveen Chandra\"\n",
        "fname,mname,lname = name.split(\" \")\n",
        "print(fname,mname,lname)\n",
        "print(fname[0],'.',mname[0],'.',lname)"
      ],
      "metadata": {
        "colab": {
          "base_uri": "https://localhost:8080/"
        },
        "id": "0VvV_0yT-GTB",
        "outputId": "266d0698-7880-43e8-dd14-5b508f6121da"
      },
      "execution_count": 3,
      "outputs": [
        {
          "output_type": "stream",
          "name": "stdout",
          "text": [
            "Sunny Bhaveen Chandra\n",
            "S . B . Chandra\n"
          ]
        }
      ]
    },
    {
      "cell_type": "markdown",
      "source": [
        "Q4) Join all items in a list into a string, using a hash(#) character as separator:\n",
        "\n",
        "LIST = [\"My\", \"name\", \"is\", \"Rishav\", \"Dash\"]"
      ],
      "metadata": {
        "id": "98Qb9AXrEUl1"
      }
    },
    {
      "cell_type": "code",
      "source": [
        "LIST = [\"My\", \"name\", \"is\", \"Rishav\", \"Dash\"]\n",
        "name = \"#\".join(LIST)\n",
        "print(name)"
      ],
      "metadata": {
        "colab": {
          "base_uri": "https://localhost:8080/"
        },
        "id": "ky9-yNTyE1lk",
        "outputId": "cb79f6fe-94a1-490d-d58c-8a2fcbc60dba"
      },
      "execution_count": 4,
      "outputs": [
        {
          "output_type": "stream",
          "name": "stdout",
          "text": [
            "My#name#is#Rishav#Dash\n"
          ]
        }
      ]
    },
    {
      "cell_type": "markdown",
      "source": [
        "Q5) Write example for the following string manipulation function,\n",
        "\n",
        "- isdecimal()\n",
        "- islower()\n",
        "- isupper()\n",
        "- isalpha()\n",
        "- isnumeric()"
      ],
      "metadata": {
        "id": "U8LAWniDI3uS"
      }
    },
    {
      "cell_type": "code",
      "source": [
        "name = input(\"Enter the name\")\n",
        "if name.isdecimal():\n",
        "  print(\"name is decimal\", name)\n",
        "elif name.islower():\n",
        "  print(\"name is lower\", name)\n",
        "elif name.isupper():\n",
        "  print(\"name is lower\", name)\n",
        "elif name.isalpha():\n",
        "  print(\"name is lower\", name)\n",
        "elif name.isnumeric():\n",
        "  print(\"name is lower\", name)"
      ],
      "metadata": {
        "colab": {
          "base_uri": "https://localhost:8080/"
        },
        "id": "tp3xuBQQI5Ca",
        "outputId": "25235db4-573e-4d89-8cb7-00aeeef99a5a"
      },
      "execution_count": 5,
      "outputs": [
        {
          "output_type": "stream",
          "name": "stdout",
          "text": [
            "Enter the namesantoshgore\n",
            "name is lower santoshgore\n"
          ]
        }
      ]
    },
    {
      "cell_type": "markdown",
      "source": [
        "Q6) Indian PAN card format follows the following formats -\n",
        "\n",
        "AYEPC7894X\n",
        "ABCDE9999Y Take user input for PAN_CARD and validate as per the above example."
      ],
      "metadata": {
        "id": "qs2ePK-qKE85"
      }
    },
    {
      "cell_type": "code",
      "source": [
        "pan = input(\"Enter your PAN number\")\n",
        "wid = len(pan)\n",
        "if wid == 10 and pan[0:4].isalpha() and pan[5:8].isdigit and pan[9].isalpha:\n",
        "  print(\"Correct format\")\n",
        "else:\n",
        "  print(\"Insert PAN in correct format\")"
      ],
      "metadata": {
        "colab": {
          "base_uri": "https://localhost:8080/"
        },
        "id": "FefnqvAyKKMa",
        "outputId": "da88d8a5-f1df-485d-f00f-4bda289abf5d"
      },
      "execution_count": 6,
      "outputs": [
        {
          "output_type": "stream",
          "name": "stdout",
          "text": [
            "Enter your PAN numberAJWPGH76854M\n",
            "Insert PAN in correct format\n"
          ]
        }
      ]
    }
  ]
}