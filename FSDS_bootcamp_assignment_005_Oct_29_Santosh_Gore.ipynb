{
  "nbformat": 4,
  "nbformat_minor": 0,
  "metadata": {
    "colab": {
      "provenance": [],
      "authorship_tag": "ABX9TyO/u52yBsZcLIeFtYVzg//N",
      "include_colab_link": true
    },
    "kernelspec": {
      "name": "python3",
      "display_name": "Python 3"
    },
    "language_info": {
      "name": "python"
    }
  },
  "cells": [
    {
      "cell_type": "markdown",
      "metadata": {
        "id": "view-in-github",
        "colab_type": "text"
      },
      "source": [
        "<a href=\"https://colab.research.google.com/github/gores-bot/iNeuron_Santosh/blob/main/FSDS_bootcamp_assignment_005_Oct_29_Santosh_Gore.ipynb\" target=\"_parent\"><img src=\"https://colab.research.google.com/assets/colab-badge.svg\" alt=\"Open In Colab\"/></a>"
      ]
    },
    {
      "cell_type": "code",
      "execution_count": 5,
      "metadata": {
        "colab": {
          "base_uri": "https://localhost:8080/"
        },
        "id": "khhscCGjcoHD",
        "outputId": "cf3e97bc-0220-4c80-e7b7-977d837e578f"
      },
      "outputs": [
        {
          "output_type": "stream",
          "name": "stdout",
          "text": [
            "12\n"
          ]
        }
      ],
      "source": [
        "# 1. write a function which will try to find out len of a string without using an inbuilt len function \n",
        "def RenLen(string):\n",
        " \n",
        "    # Initialize count to zero\n",
        "    count = 0\n",
        " \n",
        "    # Counting character in a string\n",
        "    for i in string:\n",
        "        count += 1\n",
        "    # Returning count\n",
        "    return count\n",
        " \n",
        " \n",
        "# Driver code\n",
        "string = \"Santosh Gore\"\n",
        "print(RenLen(string))"
      ]
    },
    {
      "cell_type": "code",
      "source": [
        "#2. write a function which  will be able to print an index of list element without using an index functiondef test1(li):\n",
        "l = [12,34,'Santosh']\n",
        "def ind(li):\n",
        "    for i in range(0,len(li)):\n",
        "        print( li[i] , \": \" ,i) \n",
        "ind(l)\n",
        "\n",
        "        \n",
        "        "
      ],
      "metadata": {
        "colab": {
          "base_uri": "https://localhost:8080/"
        },
        "id": "VPS7jxKidygA",
        "outputId": "00b03eb1-4e92-43dd-b2e1-99b2ff049221"
      },
      "execution_count": 6,
      "outputs": [
        {
          "output_type": "stream",
          "name": "stdout",
          "text": [
            "12 :  0\n",
            "34 :  1\n",
            "Santosh :  2\n"
          ]
        }
      ]
    },
    {
      "cell_type": "code",
      "source": [
        "#3. write a function which will be able to print an ip address of your system\n",
        "import socket \n",
        "def ip():\n",
        "    ip= socket.gethostbyname(socket.gethostname())\n",
        "    return ip\n",
        "\n",
        "ip()"
      ],
      "metadata": {
        "colab": {
          "base_uri": "https://localhost:8080/",
          "height": 35
        },
        "id": "kLSXT_QXObvM",
        "outputId": "a79edbeb-7584-4725-afb0-8edb847a0107"
      },
      "execution_count": 1,
      "outputs": [
        {
          "output_type": "execute_result",
          "data": {
            "text/plain": [
              "'172.28.0.12'"
            ],
            "application/vnd.google.colaboratory.intrinsic+json": {
              "type": "string"
            }
          },
          "metadata": {},
          "execution_count": 1
        }
      ]
    },
    {
      "cell_type": "code",
      "source": [
        "#4. write a function which will shutdown your system\n",
        "import os\n",
        "os.system(\"shutdown /r /t 4\")"
      ],
      "metadata": {
        "id": "Gy0JDKHMPjTH"
      },
      "execution_count": null,
      "outputs": []
    },
    {
      "cell_type": "code",
      "source": [
        "#5. write a function which will take input as a list with any kind of numeric value and give an out as a multiplication of \n",
        "#all the numeric data l = [3.5, 6.56, 4,5,\"sudh\" , \"ineuron\" , 'fsda bootcamp 2.0']\n",
        "l = [3.5, 6.56, 4,5,\"sudh\" , \"ineuron\" , 'fsda bootcamp 2.0']\n",
        "def mult(l):\n",
        "    mul = 1 \n",
        "    for i in l :\n",
        "        if type(i) == int or type(i) == float : \n",
        "            mul = mul *i\n",
        "    return mul\n",
        "mult(l)"
      ],
      "metadata": {
        "colab": {
          "base_uri": "https://localhost:8080/"
        },
        "id": "GgPqKyduPlnf",
        "outputId": "ca05697a-c54f-4986-cf36-3394de587f45"
      },
      "execution_count": 2,
      "outputs": [
        {
          "output_type": "execute_result",
          "data": {
            "text/plain": [
              "459.19999999999993"
            ]
          },
          "metadata": {},
          "execution_count": 2
        }
      ]
    }
  ]
}