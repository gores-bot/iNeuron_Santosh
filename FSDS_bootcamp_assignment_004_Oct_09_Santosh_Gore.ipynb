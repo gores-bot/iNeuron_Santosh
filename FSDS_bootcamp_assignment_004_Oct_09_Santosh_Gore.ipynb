{
  "nbformat": 4,
  "nbformat_minor": 0,
  "metadata": {
    "colab": {
      "provenance": [],
      "collapsed_sections": [],
      "authorship_tag": "ABX9TyNbsdd1qqJHLLdbDKUR+mrk",
      "include_colab_link": true
    },
    "kernelspec": {
      "name": "python3",
      "display_name": "Python 3"
    },
    "language_info": {
      "name": "python"
    }
  },
  "cells": [
    {
      "cell_type": "markdown",
      "metadata": {
        "id": "view-in-github",
        "colab_type": "text"
      },
      "source": [
        "<a href=\"https://colab.research.google.com/github/gores-bot/iNeuron_Santosh/blob/main/FSDS_bootcamp_assignment_004_Oct_09_Santosh_Gore.ipynb\" target=\"_parent\"><img src=\"https://colab.research.google.com/assets/colab-badge.svg\" alt=\"Open In Colab\"/></a>"
      ]
    },
    {
      "cell_type": "markdown",
      "source": [
        "Q1. Find the largest number from the given list, use for loop.\n",
        "\n",
        "numbers = [12, 75, 150, 180, 145, 525, 50]"
      ],
      "metadata": {
        "id": "u91_ZtaHyUMt"
      }
    },
    {
      "cell_type": "code",
      "source": [
        "numbers = [12, 75,150, 180, 145, 525, 50]\n",
        "max = numbers[0]\n",
        "\n",
        "for i in numbers:\n",
        "    if i > max:\n",
        "        max = i\n",
        "        \n",
        "print(\"Largest number is : \", max)"
      ],
      "metadata": {
        "colab": {
          "base_uri": "https://localhost:8080/"
        },
        "id": "9HlKeHoGyWqM",
        "outputId": "d64ad0ef-ea66-4031-9153-41fcf4c7d991"
      },
      "execution_count": null,
      "outputs": [
        {
          "output_type": "stream",
          "name": "stdout",
          "text": [
            "Largest number is :  525\n"
          ]
        }
      ]
    },
    {
      "cell_type": "markdown",
      "source": [
        "Q2. Print all the even number between (1, 12)."
      ],
      "metadata": {
        "id": "iHoQwPm5ywJU"
      }
    },
    {
      "cell_type": "code",
      "source": [
        "numbers = [1,2,3,4,5,6,7,8,9,10,11,12]\n",
        "for i in numbers:\n",
        "  if i%2 == 0:\n",
        "    print(f\"{i} is the even number\")\n",
        "  else:\n",
        "    continue\n"
      ],
      "metadata": {
        "colab": {
          "base_uri": "https://localhost:8080/"
        },
        "id": "m6VEgKLHyw7T",
        "outputId": "c74775c3-67c8-4948-b5c7-7356ff6e3e7b"
      },
      "execution_count": null,
      "outputs": [
        {
          "output_type": "stream",
          "name": "stdout",
          "text": [
            "2 is the even number\n",
            "4 is the even number\n",
            "6 is the even number\n",
            "8 is the even number\n",
            "10 is the even number\n",
            "12 is the even number\n"
          ]
        }
      ]
    },
    {
      "cell_type": "markdown",
      "source": [
        "Q3. Calculate the sum of all numbers from 1 to a given number"
      ],
      "metadata": {
        "id": "YZc0ctnJz_6l"
      }
    },
    {
      "cell_type": "code",
      "source": [
        "num = int(input(\"Enter any number\"))\n",
        "a = 1\n",
        "sum = 1\n",
        "while a < num:\n",
        "  a = a + 1 \n",
        "  sum = sum + a\n",
        "  print(f\"value of a is {sum}\")\n",
        "\n",
        "print(\"Sum is\", sum)"
      ],
      "metadata": {
        "colab": {
          "base_uri": "https://localhost:8080/"
        },
        "id": "gDLZIdrK0A1y",
        "outputId": "6a69a8a6-6fe8-4fe0-cc94-b4a2958e8fbd"
      },
      "execution_count": 15,
      "outputs": [
        {
          "output_type": "stream",
          "name": "stdout",
          "text": [
            "Enter any number10\n",
            "value of a is 3\n",
            "value of a is 6\n",
            "value of a is 10\n",
            "value of a is 15\n",
            "value of a is 21\n",
            "value of a is 28\n",
            "value of a is 36\n",
            "value of a is 45\n",
            "value of a is 55\n",
            "Sum is 55\n"
          ]
        }
      ]
    },
    {
      "cell_type": "markdown",
      "source": [
        "Q4. Write a program to display only those numbers from a list that satisfy the following conditions\n",
        "\n",
        "The number must be divisible by five\n",
        "\n",
        "If the number is greater than 150, then skip it and move to the next number\n",
        "\n",
        "If the number is greater than 500, then stop the loop\n",
        "numbers = [12, 75, 150, 180, 145, 525, 50]"
      ],
      "metadata": {
        "id": "LLdBIPwb3iTH"
      }
    },
    {
      "cell_type": "code",
      "source": [
        "numbers = [12, 75, 150, 180, 145, 525, 50]\n",
        "for i in numbers:\n",
        "  if i > 500:\n",
        "    break\n",
        "  elif i % 5 == 0 and i <= 150:\n",
        "    print(f\"{i} satisfying all the required conditions...\")\n",
        "  else: \n",
        "    continue "
      ],
      "metadata": {
        "colab": {
          "base_uri": "https://localhost:8080/"
        },
        "id": "AYqbqlgs3mBp",
        "outputId": "7324a7b0-5b06-4fef-ecc9-fe51c8f5f9f1"
      },
      "execution_count": 17,
      "outputs": [
        {
          "output_type": "stream",
          "name": "stdout",
          "text": [
            "75 satisfying all the required conditions...\n",
            "150 satisfying all the required conditions...\n",
            "145 satisfying all the required conditions...\n"
          ]
        }
      ]
    },
    {
      "cell_type": "code",
      "source": [],
      "metadata": {
        "id": "wMmzqAxY4Evw"
      },
      "execution_count": null,
      "outputs": []
    },
    {
      "cell_type": "markdown",
      "source": [
        "Q5. Print the given list in reverse order.\n",
        "\n",
        "list1 = [10, 20, 30, 40, 50]"
      ],
      "metadata": {
        "id": "bLAS5dy06Hik"
      }
    },
    {
      "cell_type": "code",
      "source": [
        "numbers = [10, 20, 30, 40, 50]\n",
        "a = len(numbers)\n",
        "i = a - 1\n",
        "while i >= 0:\n",
        "  print(numbers[i])\n",
        "  i = i-1\n"
      ],
      "metadata": {
        "colab": {
          "base_uri": "https://localhost:8080/"
        },
        "id": "w28rMyd36IS8",
        "outputId": "3f37f112-9694-4f51-c588-2db1ea899b48"
      },
      "execution_count": 20,
      "outputs": [
        {
          "output_type": "stream",
          "name": "stdout",
          "text": [
            "50\n",
            "40\n",
            "30\n",
            "20\n",
            "10\n"
          ]
        }
      ]
    }
  ]
}